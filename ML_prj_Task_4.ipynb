{
  "nbformat": 4,
  "nbformat_minor": 0,
  "metadata": {
    "colab": {
      "provenance": []
    },
    "kernelspec": {
      "name": "python3",
      "display_name": "Python 3"
    },
    "language_info": {
      "name": "python"
    }
  },
  "cells": [
    {
      "cell_type": "markdown",
      "source": [
        "Cusines Classification"
      ],
      "metadata": {
        "id": "GCyr0VdTiCQu"
      }
    },
    {
      "cell_type": "code",
      "execution_count": null,
      "metadata": {
        "colab": {
          "base_uri": "https://localhost:8080/"
        },
        "id": "p8TuhVHah_NI",
        "outputId": "a8e06bfa-ab95-40c6-f0b0-e71168b4cb14"
      },
      "outputs": [
        {
          "output_type": "stream",
          "name": "stdout",
          "text": [
            "Concentration of Restaurants by City:\n",
            "City\n",
            "Abu Dhabi          20\n",
            "Agra               20\n",
            "Ahmedabad          21\n",
            "Albany             20\n",
            "Allahabad          20\n",
            "                   ..\n",
            "Weirton             1\n",
            "Wellington City    20\n",
            "Winchester Bay      1\n",
            "Yorkton             1\n",
            "��stanbul          14\n",
            "Length: 141, dtype: int64\n",
            "\n",
            "Average Ratings by City:\n",
            "City\n",
            "Abu Dhabi          4.300000\n",
            "Agra               3.965000\n",
            "Ahmedabad          4.161905\n",
            "Albany             3.555000\n",
            "Allahabad          3.395000\n",
            "                     ...   \n",
            "Weirton            3.900000\n",
            "Wellington City    4.250000\n",
            "Winchester Bay     3.200000\n",
            "Yorkton            3.300000\n",
            "��stanbul          4.292857\n",
            "Name: Aggregate rating, Length: 141, dtype: float64\n",
            "\n",
            "Cuisines by City:\n",
            "City\n",
            "Abu Dhabi          [American, Italian, Pizza, Turkish, Arabian, M...\n",
            "Agra               [North Indian, Mughlai, North Indian, Rajastha...\n",
            "Ahmedabad          [Chinese, Italian, North Indian, Mexican, Medi...\n",
            "Albany             [BBQ, Burger, Seafood, American, BBQ, nan, Mex...\n",
            "Allahabad          [North Indian, South Indian, Fast Food, Cafe, ...\n",
            "                                         ...                        \n",
            "Weirton                                    [Burger, Greek, Sandwich]\n",
            "Wellington City    [Cafe, Kiwi, American, Fast Food, Italian, Caf...\n",
            "Winchester Bay                              [Burger, Seafood, Steak]\n",
            "Yorkton                                                      [Asian]\n",
            "��stanbul          [Desserts, Cafe, Restaurant Cafe, Desserts, Ba...\n",
            "Name: Cuisines, Length: 141, dtype: object\n"
          ]
        }
      ],
      "source": [
        "import pandas as pd\n",
        "import folium\n",
        "from folium.plugins import MarkerCluster\n",
        "df = pd.read_csv(\"/content/Dataset .csv\")\n",
        "\n",
        "# Step 1:\n",
        "restaurant_map = folium.Map(location=[df['Latitude'].mean(), df['Longitude'].mean()], zoom_start=4)\n",
        "\n",
        "marker_cluster = MarkerCluster().add_to(restaurant_map)\n",
        "\n",
        "for index, row in df.iterrows():\n",
        "    folium.Marker([row['Latitude'], row['Longitude']], popup=row['Restaurant Name']).add_to(marker_cluster)\n",
        "\n",
        "restaurant_map.save(\"restaurant_distribution_map.html\")\n",
        "\n",
        "# Step 2:\n",
        "grouped_by_city = df.groupby('City').size()\n",
        "\n",
        "print(\"Concentration of Restaurants by City:\")\n",
        "print(grouped_by_city)\n",
        "# Step 3:\n",
        "average_ratings_by_city = df.groupby('City')['Aggregate rating'].mean()\n",
        "\n",
        "\n",
        "print(\"\\nAverage Ratings by City:\")\n",
        "print(average_ratings_by_city)\n",
        "\n",
        "# Step 4:\n",
        "cuisines_by_city = df.groupby('City')['Cuisines'].unique()\n",
        "\n",
        "print(\"\\nCuisines by City:\")\n",
        "print(cuisines_by_city)\n"
      ]
    }
  ]
}